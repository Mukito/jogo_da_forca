{
 "cells": [
  {
   "cell_type": "code",
   "execution_count": null,
   "metadata": {},
   "outputs": [
    {
     "name": "stdout",
     "output_type": "stream",
     "text": [
      "**************************************************\n",
      "*******           Bem vindo              *********\n",
      "**************************************************\n",
      "voce digitou  v\n",
      "Errroooouuuu!!! \n",
      "voce digitou  a\n",
      "Errroooouuuu!!! \n",
      "voce digitou  x\n",
      "Errroooouuuu!!! \n",
      "voce digitou  n\n",
      "Errroooouuuu!!! \n",
      "voce digitou  banana\n",
      "Acertou miseravi \n"
     ]
    }
   ],
   "source": [
    "def inicio():\n",
    "    print(\"**************************************************\")\n",
    "    print(\"*******           Bem vindo              *********\")\n",
    "    print(\"**************************************************\")\n",
    "\n",
    "\n",
    "def operacao():\n",
    "    palavraSecreta = \"banana\"\n",
    "    while(True):\n",
    "        index = 0\n",
    "        chute = input(\"Digite uma Letra: \")\n",
    "        print(\"voce digitou \", chute)\n",
    "        for letra in palavraSecreta:\n",
    "            if chute == palavraSecreta:\n",
    "                print(\"Acertou miseravi \")\n",
    "                break\n",
    "            else:\n",
    "                print(\"Errroooouuuu!!! \")\n",
    "                break\n",
    "            #return palavraSecreta\n",
    "\n",
    "\n",
    "\n",
    "if __name__ == \"__main__\":\n",
    "    inicio()\n",
    "    operacao()"
   ]
  }
 ],
 "metadata": {
  "kernelspec": {
   "display_name": "Python 3",
   "language": "python",
   "name": "python3"
  },
  "language_info": {
   "codemirror_mode": {
    "name": "ipython",
    "version": 3
   },
   "file_extension": ".py",
   "mimetype": "text/x-python",
   "name": "python",
   "nbconvert_exporter": "python",
   "pygments_lexer": "ipython3",
   "version": "3.12.7"
  }
 },
 "nbformat": 4,
 "nbformat_minor": 2
}
